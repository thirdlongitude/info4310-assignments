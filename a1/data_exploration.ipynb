{
 "cells": [
  {
   "cell_type": "code",
   "execution_count": 1,
   "metadata": {},
   "outputs": [],
   "source": [
    "import pandas as pd"
   ]
  },
  {
   "cell_type": "code",
   "execution_count": 2,
   "metadata": {},
   "outputs": [],
   "source": [
    "dtypes_list= {'qLegalStatus': 'str', 'qSpecies': 'str', 'qAddress': 'str', 'qSiteInfo': 'str', 'qCaretaker': 'str', 'PlantDate': 'str', 'PlotSize': 'str'}\n",
    "trees_filtered = pd.read_csv('static/Street_Tree_List-2022-01-30_FILTERED.csv', dtype = dtypes_list)\n",
    "trees_raw = pd.read_csv('static/Street_Tree_List-2022-01-30_RAW.csv', dtype = dtypes_list)"
   ]
  },
  {
   "cell_type": "code",
   "execution_count": 3,
   "metadata": {},
   "outputs": [
    {
     "data": {
      "text/html": [
       "<div>\n",
       "<style scoped>\n",
       "    .dataframe tbody tr th:only-of-type {\n",
       "        vertical-align: middle;\n",
       "    }\n",
       "\n",
       "    .dataframe tbody tr th {\n",
       "        vertical-align: top;\n",
       "    }\n",
       "\n",
       "    .dataframe thead th {\n",
       "        text-align: right;\n",
       "    }\n",
       "</style>\n",
       "<table border=\"1\" class=\"dataframe\">\n",
       "  <thead>\n",
       "    <tr style=\"text-align: right;\">\n",
       "      <th></th>\n",
       "      <th>TreeID</th>\n",
       "      <th>qLegalStatus</th>\n",
       "      <th>qSpecies</th>\n",
       "      <th>qAddress</th>\n",
       "      <th>SiteOrder</th>\n",
       "      <th>qSiteInfo</th>\n",
       "      <th>qCaretaker</th>\n",
       "      <th>PlantDate</th>\n",
       "      <th>DBH</th>\n",
       "      <th>PlotSize</th>\n",
       "      <th>Latitude</th>\n",
       "      <th>Longitude</th>\n",
       "    </tr>\n",
       "  </thead>\n",
       "  <tbody>\n",
       "    <tr>\n",
       "      <th>0</th>\n",
       "      <td>200311</td>\n",
       "      <td>DPW Maintained</td>\n",
       "      <td>Liquidambar styraciflua 'Rotundiloba' :: Round...</td>\n",
       "      <td>300 Spear St</td>\n",
       "      <td>9.0</td>\n",
       "      <td>Sidewalk: Curb side : Yard</td>\n",
       "      <td>Private</td>\n",
       "      <td>NaN</td>\n",
       "      <td>5</td>\n",
       "      <td>NaN</td>\n",
       "      <td>37.789193</td>\n",
       "      <td>-122.390006</td>\n",
       "    </tr>\n",
       "    <tr>\n",
       "      <th>1</th>\n",
       "      <td>10425</td>\n",
       "      <td>DPW Maintained</td>\n",
       "      <td>Schinus terebinthifolius :: Brazilian Pepper</td>\n",
       "      <td>1419 Haight St</td>\n",
       "      <td>2.0</td>\n",
       "      <td>Sidewalk: Curb side : Cutout</td>\n",
       "      <td>DPW</td>\n",
       "      <td>NaN</td>\n",
       "      <td>90</td>\n",
       "      <td>3x3</td>\n",
       "      <td>37.770094</td>\n",
       "      <td>-122.445693</td>\n",
       "    </tr>\n",
       "    <tr>\n",
       "      <th>2</th>\n",
       "      <td>43163</td>\n",
       "      <td>DPW Maintained</td>\n",
       "      <td>Acacia melanoxylon :: Blackwood Acacia</td>\n",
       "      <td>222 Madison St</td>\n",
       "      <td>1.0</td>\n",
       "      <td>Sidewalk: Curb side : Cutout</td>\n",
       "      <td>Private</td>\n",
       "      <td>7/11/00 0:00</td>\n",
       "      <td>8</td>\n",
       "      <td>NaN</td>\n",
       "      <td>37.726036</td>\n",
       "      <td>-122.422690</td>\n",
       "    </tr>\n",
       "    <tr>\n",
       "      <th>3</th>\n",
       "      <td>188921</td>\n",
       "      <td>DPW Maintained</td>\n",
       "      <td>Callistemon citrinus :: Lemon Bottlebrush</td>\n",
       "      <td>2001 25th St</td>\n",
       "      <td>16.0</td>\n",
       "      <td>Sidewalk: Property side : Yard</td>\n",
       "      <td>Private</td>\n",
       "      <td>NaN</td>\n",
       "      <td>6</td>\n",
       "      <td>Width 8ft</td>\n",
       "      <td>37.751955</td>\n",
       "      <td>-122.399482</td>\n",
       "    </tr>\n",
       "    <tr>\n",
       "      <th>4</th>\n",
       "      <td>643</td>\n",
       "      <td>DPW Maintained</td>\n",
       "      <td>Ficus microcarpa :: Chinese Banyan</td>\n",
       "      <td>3224 24th St</td>\n",
       "      <td>1.0</td>\n",
       "      <td>Sidewalk: Curb side : Cutout</td>\n",
       "      <td>Private</td>\n",
       "      <td>NaN</td>\n",
       "      <td>18</td>\n",
       "      <td>3x3</td>\n",
       "      <td>37.752398</td>\n",
       "      <td>-122.416772</td>\n",
       "    </tr>\n",
       "  </tbody>\n",
       "</table>\n",
       "</div>"
      ],
      "text/plain": [
       "   TreeID    qLegalStatus                                           qSpecies  \\\n",
       "0  200311  DPW Maintained  Liquidambar styraciflua 'Rotundiloba' :: Round...   \n",
       "1   10425  DPW Maintained       Schinus terebinthifolius :: Brazilian Pepper   \n",
       "2   43163  DPW Maintained             Acacia melanoxylon :: Blackwood Acacia   \n",
       "3  188921  DPW Maintained          Callistemon citrinus :: Lemon Bottlebrush   \n",
       "4     643  DPW Maintained                 Ficus microcarpa :: Chinese Banyan   \n",
       "\n",
       "         qAddress  SiteOrder                       qSiteInfo qCaretaker  \\\n",
       "0    300 Spear St        9.0      Sidewalk: Curb side : Yard    Private   \n",
       "1  1419 Haight St        2.0    Sidewalk: Curb side : Cutout        DPW   \n",
       "2  222 Madison St        1.0    Sidewalk: Curb side : Cutout    Private   \n",
       "3    2001 25th St       16.0  Sidewalk: Property side : Yard    Private   \n",
       "4    3224 24th St        1.0    Sidewalk: Curb side : Cutout    Private   \n",
       "\n",
       "      PlantDate  DBH   PlotSize   Latitude   Longitude  \n",
       "0           NaN    5        NaN  37.789193 -122.390006  \n",
       "1           NaN   90        3x3  37.770094 -122.445693  \n",
       "2  7/11/00 0:00    8        NaN  37.726036 -122.422690  \n",
       "3           NaN    6  Width 8ft  37.751955 -122.399482  \n",
       "4           NaN   18        3x3  37.752398 -122.416772  "
      ]
     },
     "execution_count": 3,
     "metadata": {},
     "output_type": "execute_result"
    }
   ],
   "source": [
    "trees_filtered.head(5)"
   ]
  },
  {
   "cell_type": "code",
   "execution_count": 4,
   "metadata": {},
   "outputs": [
    {
     "data": {
      "text/plain": [
       "TreeID            int64\n",
       "qLegalStatus     object\n",
       "qSpecies         object\n",
       "qAddress         object\n",
       "SiteOrder       float64\n",
       "qSiteInfo        object\n",
       "qCaretaker       object\n",
       "PlantDate        object\n",
       "DBH               int64\n",
       "PlotSize         object\n",
       "Latitude        float64\n",
       "Longitude       float64\n",
       "dtype: object"
      ]
     },
     "execution_count": 4,
     "metadata": {},
     "output_type": "execute_result"
    }
   ],
   "source": [
    "trees_filtered.dtypes"
   ]
  },
  {
   "cell_type": "code",
   "execution_count": 5,
   "metadata": {},
   "outputs": [
    {
     "name": "stdout",
     "output_type": "stream",
     "text": [
      "total trees: 37118\n",
      "number of species with only 1 tree: 77\n",
      "total number of species: 419\n"
     ]
    }
   ],
   "source": [
    "print('total trees: ' + str(len(trees_filtered)))\n",
    "species_counts = trees_filtered['qSpecies'].value_counts()\n",
    "print('number of species with only 1 tree: ' + str(len(species_counts[species_counts == 1])))\n",
    "print('total number of species: ' + str(trees_filtered['qSpecies'].nunique()))"
   ]
  },
  {
   "cell_type": "code",
   "execution_count": 6,
   "metadata": {
    "scrolled": true
   },
   "outputs": [
    {
     "data": {
      "text/plain": [
       "Platanus x hispanica :: Sycamore: London Plane                               2633\n",
       "Metrosideros excelsa :: New Zealand Xmas Tree                                1937\n",
       "Lophostemon confertus :: Brisbane Box                                        1727\n",
       "Pittosporum undulatum :: Victorian Box                                       1669\n",
       "Tristaniopsis laurina :: Swamp Myrtle                                        1577\n",
       "Ficus microcarpa nitida 'Green Gem' :: Indian Laurel Fig Tree 'Green Gem'    1425\n",
       "Magnolia grandiflora :: Southern Magnolia                                    1377\n",
       "Prunus cerasifera :: Cherry Plum                                             1306\n",
       "Arbutus 'Marina' :: Hybrid Strawberry Tree                                   1063\n",
       "Prunus serrulata 'Kwanzan' :: Kwanzan Flowering Cherry                        841\n",
       "Acacia melanoxylon :: Blackwood Acacia                                        820\n",
       "Olea europaea :: Olive Tree                                                   789\n",
       "Corymbia ficifolia :: Red Flowering Gum                                       782\n",
       "Maytenus boaria :: Mayten                                                     766\n",
       "Callistemon citrinus :: Lemon Bottlebrush                                     685\n",
       "Name: qSpecies, dtype: int64"
      ]
     },
     "execution_count": 6,
     "metadata": {},
     "output_type": "execute_result"
    }
   ],
   "source": [
    "species_counts[:15]"
   ]
  },
  {
   "cell_type": "markdown",
   "metadata": {},
   "source": [
    "Make csv file to be used for the visualization.\n",
    "- Keep TreeID, Latitude, and Longitude\n",
    "- Process qSpecies to only include the common name"
   ]
  },
  {
   "cell_type": "code",
   "execution_count": 7,
   "metadata": {},
   "outputs": [],
   "source": [
    "trees_subset = trees_filtered[['TreeID', 'qSpecies', 'Latitude', 'Longitude']].copy()"
   ]
  },
  {
   "cell_type": "code",
   "execution_count": 8,
   "metadata": {
    "scrolled": true
   },
   "outputs": [
    {
     "data": {
      "text/html": [
       "<div>\n",
       "<style scoped>\n",
       "    .dataframe tbody tr th:only-of-type {\n",
       "        vertical-align: middle;\n",
       "    }\n",
       "\n",
       "    .dataframe tbody tr th {\n",
       "        vertical-align: top;\n",
       "    }\n",
       "\n",
       "    .dataframe thead th {\n",
       "        text-align: right;\n",
       "    }\n",
       "</style>\n",
       "<table border=\"1\" class=\"dataframe\">\n",
       "  <thead>\n",
       "    <tr style=\"text-align: right;\">\n",
       "      <th></th>\n",
       "      <th>TreeID</th>\n",
       "      <th>qSpecies</th>\n",
       "      <th>Latitude</th>\n",
       "      <th>Longitude</th>\n",
       "    </tr>\n",
       "  </thead>\n",
       "  <tbody>\n",
       "    <tr>\n",
       "      <th>0</th>\n",
       "      <td>200311</td>\n",
       "      <td>Liquidambar styraciflua 'Rotundiloba' :: Round...</td>\n",
       "      <td>37.789193</td>\n",
       "      <td>-122.390006</td>\n",
       "    </tr>\n",
       "    <tr>\n",
       "      <th>1</th>\n",
       "      <td>10425</td>\n",
       "      <td>Schinus terebinthifolius :: Brazilian Pepper</td>\n",
       "      <td>37.770094</td>\n",
       "      <td>-122.445693</td>\n",
       "    </tr>\n",
       "    <tr>\n",
       "      <th>2</th>\n",
       "      <td>43163</td>\n",
       "      <td>Acacia melanoxylon :: Blackwood Acacia</td>\n",
       "      <td>37.726036</td>\n",
       "      <td>-122.422690</td>\n",
       "    </tr>\n",
       "    <tr>\n",
       "      <th>3</th>\n",
       "      <td>188921</td>\n",
       "      <td>Callistemon citrinus :: Lemon Bottlebrush</td>\n",
       "      <td>37.751955</td>\n",
       "      <td>-122.399482</td>\n",
       "    </tr>\n",
       "    <tr>\n",
       "      <th>4</th>\n",
       "      <td>643</td>\n",
       "      <td>Ficus microcarpa :: Chinese Banyan</td>\n",
       "      <td>37.752398</td>\n",
       "      <td>-122.416772</td>\n",
       "    </tr>\n",
       "  </tbody>\n",
       "</table>\n",
       "</div>"
      ],
      "text/plain": [
       "   TreeID                                           qSpecies   Latitude  \\\n",
       "0  200311  Liquidambar styraciflua 'Rotundiloba' :: Round...  37.789193   \n",
       "1   10425       Schinus terebinthifolius :: Brazilian Pepper  37.770094   \n",
       "2   43163             Acacia melanoxylon :: Blackwood Acacia  37.726036   \n",
       "3  188921          Callistemon citrinus :: Lemon Bottlebrush  37.751955   \n",
       "4     643                 Ficus microcarpa :: Chinese Banyan  37.752398   \n",
       "\n",
       "    Longitude  \n",
       "0 -122.390006  \n",
       "1 -122.445693  \n",
       "2 -122.422690  \n",
       "3 -122.399482  \n",
       "4 -122.416772  "
      ]
     },
     "execution_count": 8,
     "metadata": {},
     "output_type": "execute_result"
    }
   ],
   "source": [
    "trees_subset.head(5)"
   ]
  },
  {
   "cell_type": "code",
   "execution_count": 9,
   "metadata": {
    "scrolled": true
   },
   "outputs": [
    {
     "data": {
      "text/html": [
       "<div>\n",
       "<style scoped>\n",
       "    .dataframe tbody tr th:only-of-type {\n",
       "        vertical-align: middle;\n",
       "    }\n",
       "\n",
       "    .dataframe tbody tr th {\n",
       "        vertical-align: top;\n",
       "    }\n",
       "\n",
       "    .dataframe thead th {\n",
       "        text-align: right;\n",
       "    }\n",
       "</style>\n",
       "<table border=\"1\" class=\"dataframe\">\n",
       "  <thead>\n",
       "    <tr style=\"text-align: right;\">\n",
       "      <th></th>\n",
       "      <th>tree_id</th>\n",
       "      <th>species</th>\n",
       "      <th>latitude</th>\n",
       "      <th>longitude</th>\n",
       "    </tr>\n",
       "  </thead>\n",
       "  <tbody>\n",
       "    <tr>\n",
       "      <th>0</th>\n",
       "      <td>200311</td>\n",
       "      <td>Liquidambar styraciflua 'Rotundiloba' :: Round...</td>\n",
       "      <td>37.789193</td>\n",
       "      <td>-122.390006</td>\n",
       "    </tr>\n",
       "    <tr>\n",
       "      <th>1</th>\n",
       "      <td>10425</td>\n",
       "      <td>Schinus terebinthifolius :: Brazilian Pepper</td>\n",
       "      <td>37.770094</td>\n",
       "      <td>-122.445693</td>\n",
       "    </tr>\n",
       "    <tr>\n",
       "      <th>2</th>\n",
       "      <td>43163</td>\n",
       "      <td>Acacia melanoxylon :: Blackwood Acacia</td>\n",
       "      <td>37.726036</td>\n",
       "      <td>-122.422690</td>\n",
       "    </tr>\n",
       "    <tr>\n",
       "      <th>3</th>\n",
       "      <td>188921</td>\n",
       "      <td>Callistemon citrinus :: Lemon Bottlebrush</td>\n",
       "      <td>37.751955</td>\n",
       "      <td>-122.399482</td>\n",
       "    </tr>\n",
       "    <tr>\n",
       "      <th>4</th>\n",
       "      <td>643</td>\n",
       "      <td>Ficus microcarpa :: Chinese Banyan</td>\n",
       "      <td>37.752398</td>\n",
       "      <td>-122.416772</td>\n",
       "    </tr>\n",
       "  </tbody>\n",
       "</table>\n",
       "</div>"
      ],
      "text/plain": [
       "   tree_id                                            species   latitude  \\\n",
       "0   200311  Liquidambar styraciflua 'Rotundiloba' :: Round...  37.789193   \n",
       "1    10425       Schinus terebinthifolius :: Brazilian Pepper  37.770094   \n",
       "2    43163             Acacia melanoxylon :: Blackwood Acacia  37.726036   \n",
       "3   188921          Callistemon citrinus :: Lemon Bottlebrush  37.751955   \n",
       "4      643                 Ficus microcarpa :: Chinese Banyan  37.752398   \n",
       "\n",
       "    longitude  \n",
       "0 -122.390006  \n",
       "1 -122.445693  \n",
       "2 -122.422690  \n",
       "3 -122.399482  \n",
       "4 -122.416772  "
      ]
     },
     "execution_count": 9,
     "metadata": {},
     "output_type": "execute_result"
    }
   ],
   "source": [
    "trees_subset = trees_subset.rename(columns = {'TreeID': 'tree_id', 'qSpecies': 'species', 'Latitude': 'latitude', 'Longitude': 'longitude'})\n",
    "trees_subset.head(5)"
   ]
  },
  {
   "cell_type": "code",
   "execution_count": 10,
   "metadata": {
    "scrolled": false
   },
   "outputs": [
    {
     "data": {
      "text/html": [
       "<div>\n",
       "<style scoped>\n",
       "    .dataframe tbody tr th:only-of-type {\n",
       "        vertical-align: middle;\n",
       "    }\n",
       "\n",
       "    .dataframe tbody tr th {\n",
       "        vertical-align: top;\n",
       "    }\n",
       "\n",
       "    .dataframe thead th {\n",
       "        text-align: right;\n",
       "    }\n",
       "</style>\n",
       "<table border=\"1\" class=\"dataframe\">\n",
       "  <thead>\n",
       "    <tr style=\"text-align: right;\">\n",
       "      <th></th>\n",
       "      <th>tree_id</th>\n",
       "      <th>species</th>\n",
       "      <th>latitude</th>\n",
       "      <th>longitude</th>\n",
       "    </tr>\n",
       "  </thead>\n",
       "  <tbody>\n",
       "    <tr>\n",
       "      <th>0</th>\n",
       "      <td>200311</td>\n",
       "      <td>Roundleaf sweetgum</td>\n",
       "      <td>37.789193</td>\n",
       "      <td>-122.390006</td>\n",
       "    </tr>\n",
       "    <tr>\n",
       "      <th>1</th>\n",
       "      <td>10425</td>\n",
       "      <td>Brazilian Pepper</td>\n",
       "      <td>37.770094</td>\n",
       "      <td>-122.445693</td>\n",
       "    </tr>\n",
       "    <tr>\n",
       "      <th>2</th>\n",
       "      <td>43163</td>\n",
       "      <td>Blackwood Acacia</td>\n",
       "      <td>37.726036</td>\n",
       "      <td>-122.422690</td>\n",
       "    </tr>\n",
       "    <tr>\n",
       "      <th>3</th>\n",
       "      <td>188921</td>\n",
       "      <td>Lemon Bottlebrush</td>\n",
       "      <td>37.751955</td>\n",
       "      <td>-122.399482</td>\n",
       "    </tr>\n",
       "    <tr>\n",
       "      <th>4</th>\n",
       "      <td>643</td>\n",
       "      <td>Chinese Banyan</td>\n",
       "      <td>37.752398</td>\n",
       "      <td>-122.416772</td>\n",
       "    </tr>\n",
       "  </tbody>\n",
       "</table>\n",
       "</div>"
      ],
      "text/plain": [
       "   tree_id              species   latitude   longitude\n",
       "0   200311   Roundleaf sweetgum  37.789193 -122.390006\n",
       "1    10425     Brazilian Pepper  37.770094 -122.445693\n",
       "2    43163     Blackwood Acacia  37.726036 -122.422690\n",
       "3   188921    Lemon Bottlebrush  37.751955 -122.399482\n",
       "4      643       Chinese Banyan  37.752398 -122.416772"
      ]
     },
     "execution_count": 10,
     "metadata": {},
     "output_type": "execute_result"
    }
   ],
   "source": [
    "trees_subset['species'] = trees_subset['species'].str.split('::', expand = True)[1]\n",
    "trees_subset.head(5)"
   ]
  },
  {
   "cell_type": "code",
   "execution_count": 11,
   "metadata": {
    "scrolled": true
   },
   "outputs": [
    {
     "name": "stdout",
     "output_type": "stream",
     "text": [
      "377 trees of unknown species\n"
     ]
    }
   ],
   "source": [
    "print(str(len(trees_subset[trees_subset['species'] == ''])) + ' trees of unknown species')"
   ]
  },
  {
   "cell_type": "markdown",
   "metadata": {},
   "source": [
    "Replace empty species values with \"Unknown\". (Want to include these data points in the visualization but not use them for dominant species calculation.)"
   ]
  },
  {
   "cell_type": "code",
   "execution_count": 12,
   "metadata": {
    "scrolled": true
   },
   "outputs": [
    {
     "data": {
      "text/html": [
       "<div>\n",
       "<style scoped>\n",
       "    .dataframe tbody tr th:only-of-type {\n",
       "        vertical-align: middle;\n",
       "    }\n",
       "\n",
       "    .dataframe tbody tr th {\n",
       "        vertical-align: top;\n",
       "    }\n",
       "\n",
       "    .dataframe thead th {\n",
       "        text-align: right;\n",
       "    }\n",
       "</style>\n",
       "<table border=\"1\" class=\"dataframe\">\n",
       "  <thead>\n",
       "    <tr style=\"text-align: right;\">\n",
       "      <th></th>\n",
       "      <th>tree_id</th>\n",
       "      <th>species</th>\n",
       "      <th>latitude</th>\n",
       "      <th>longitude</th>\n",
       "    </tr>\n",
       "  </thead>\n",
       "  <tbody>\n",
       "    <tr>\n",
       "      <th>60</th>\n",
       "      <td>142726</td>\n",
       "      <td>Unknown</td>\n",
       "      <td>37.804452</td>\n",
       "      <td>-122.415768</td>\n",
       "    </tr>\n",
       "    <tr>\n",
       "      <th>156</th>\n",
       "      <td>7073</td>\n",
       "      <td>Unknown</td>\n",
       "      <td>37.773152</td>\n",
       "      <td>-122.445264</td>\n",
       "    </tr>\n",
       "    <tr>\n",
       "      <th>480</th>\n",
       "      <td>141550</td>\n",
       "      <td>Unknown</td>\n",
       "      <td>37.777344</td>\n",
       "      <td>-122.450421</td>\n",
       "    </tr>\n",
       "    <tr>\n",
       "      <th>534</th>\n",
       "      <td>17683</td>\n",
       "      <td>Unknown</td>\n",
       "      <td>37.779870</td>\n",
       "      <td>-122.435296</td>\n",
       "    </tr>\n",
       "    <tr>\n",
       "      <th>759</th>\n",
       "      <td>10366</td>\n",
       "      <td>Unknown</td>\n",
       "      <td>37.770755</td>\n",
       "      <td>-122.441632</td>\n",
       "    </tr>\n",
       "  </tbody>\n",
       "</table>\n",
       "</div>"
      ],
      "text/plain": [
       "     tree_id  species   latitude   longitude\n",
       "60    142726  Unknown  37.804452 -122.415768\n",
       "156     7073  Unknown  37.773152 -122.445264\n",
       "480   141550  Unknown  37.777344 -122.450421\n",
       "534    17683  Unknown  37.779870 -122.435296\n",
       "759    10366  Unknown  37.770755 -122.441632"
      ]
     },
     "execution_count": 12,
     "metadata": {},
     "output_type": "execute_result"
    }
   ],
   "source": [
    "trees_subset.loc[trees_subset['species'] == '', 'species'] = 'Unknown'\n",
    "trees_subset[trees_subset['species'] == 'Unknown'].head(5)"
   ]
  },
  {
   "cell_type": "code",
   "execution_count": 14,
   "metadata": {},
   "outputs": [],
   "source": [
    "trees_subset.to_csv('static/trees_vis_data.csv', index = False)"
   ]
  }
 ],
 "metadata": {
  "kernelspec": {
   "display_name": "Python 3",
   "language": "python",
   "name": "python3"
  },
  "language_info": {
   "codemirror_mode": {
    "name": "ipython",
    "version": 3
   },
   "file_extension": ".py",
   "mimetype": "text/x-python",
   "name": "python",
   "nbconvert_exporter": "python",
   "pygments_lexer": "ipython3",
   "version": "3.6.5"
  }
 },
 "nbformat": 4,
 "nbformat_minor": 2
}
